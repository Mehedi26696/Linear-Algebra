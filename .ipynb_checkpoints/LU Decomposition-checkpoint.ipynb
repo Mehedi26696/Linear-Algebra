{
 "cells": [
  {
   "cell_type": "markdown",
   "id": "e4c02088-3b02-47cb-9d71-bc15196cca2f",
   "metadata": {},
   "source": [
    "<center><h1 style=\"color:green\">LU Decomposition</center>"
   ]
  },
  {
   "cell_type": "markdown",
   "id": "dade4029-9e85-49af-9b5a-8a2c13d28575",
   "metadata": {},
   "source": [
    "## Definition:\n",
    "LU decomposition (or LU factorization) is a method of decomposing a square matrix $ A $ into the product of two triangular matrices:\n",
    "1. **$ L $:** A lower triangular matrix (with ones on the diagonal),\n",
    "2. **$ U $:** An upper triangular matrix.\n",
    "\n",
    "For a square matrix $ A $, we can write:\n",
    "$$\n",
    "A = LU\n",
    "$$\n",
    "where:\n",
    "- $ L $ is a lower triangular matrix, and\n",
    "- $ U $ is an upper triangular matrix.\n",
    "\n",
    "If partial pivoting is applied (to ensure numerical stability), the decomposition becomes:\n",
    "$$\n",
    "PA = LU\n",
    "$$\n",
    "where $ P $ is a permutation matrix that accounts for row swaps.\n",
    "\n",
    "---\n",
    "\n",
    "## Applications of LU Decomposition:\n",
    "1. **Solving Linear Systems ($ Ax = b $):**\n",
    "   - Decompose $ A $ into $ L $ and $ U $.\n",
    "   - Solve $ Ly = b $ using **forward substitution** (solve for $ y $).\n",
    "   - Solve $ Ux = y $ using **back substitution** (solve for $ x $).\n",
    "\n",
    "2. **Determinant Calculation:**\n",
    "   - If $ A = LU $, the determinant is calculated as:\n",
    "     $$\n",
    "     \\text{det}(A) = \\text{det}(L) \\cdot \\text{det}(U)\n",
    "     $$\n",
    "   - Since $ L $ is lower triangular with ones on its diagonal, $ \\text{det}(L) = 1 $, so:\n",
    "     $$\n",
    "     \\text{det}(A) = \\prod \\text{diagonal entries of } U\n",
    "     $$\n",
    "\n",
    "3. **Matrix Inversion:**\n",
    "   - To compute $ A^{-1} $, decompose $ A = LU $, then solve $ LUx = I $ column by column, where $ I $ is the identity matrix.\n",
    "\n",
    "---"
   ]
  },
  {
   "cell_type": "code",
   "execution_count": 3,
   "id": "0ec5a1b1-e4a0-4a2e-860d-acddefc8088c",
   "metadata": {},
   "outputs": [],
   "source": [
    "import numpy as np\n",
    "from scipy.linalg import lu"
   ]
  },
  {
   "cell_type": "code",
   "execution_count": 5,
   "id": "47ad496d-2d22-4a30-8130-2e2df6e6bc2c",
   "metadata": {},
   "outputs": [],
   "source": [
    "A = np.array([[2,5,6],\n",
    "            [6,7,8],\n",
    "            [1,8,4]])"
   ]
  },
  {
   "cell_type": "markdown",
   "id": "a15101c2-eaae-43cd-8e3b-beb456fee957",
   "metadata": {},
   "source": [
    "<b>LU Decomposition"
   ]
  },
  {
   "cell_type": "code",
   "execution_count": 6,
   "id": "57a044db-6713-4568-8f47-88c732a75f83",
   "metadata": {},
   "outputs": [],
   "source": [
    "P,L,U = lu(A)"
   ]
  },
  {
   "cell_type": "markdown",
   "id": "cda0bd41-ca03-473e-a97b-ccf1dd04b49f",
   "metadata": {},
   "source": [
    "<b>Permutation Matrix"
   ]
  },
  {
   "cell_type": "code",
   "execution_count": 9,
   "id": "70359ee4-bf88-4885-9627-df0eee457b1d",
   "metadata": {},
   "outputs": [
    {
     "name": "stdout",
     "output_type": "stream",
     "text": [
      "[[0. 0. 1.]\n",
      " [1. 0. 0.]\n",
      " [0. 1. 0.]]\n"
     ]
    }
   ],
   "source": [
    "print(P)"
   ]
  },
  {
   "cell_type": "markdown",
   "id": "872d6aa7-c6a2-4366-a0c6-1ac0825f6f73",
   "metadata": {},
   "source": [
    "<b>Lower Triangular Matrix"
   ]
  },
  {
   "cell_type": "code",
   "execution_count": 10,
   "id": "602ae954-fb92-4dfc-8e2d-f06b005ac9d8",
   "metadata": {},
   "outputs": [
    {
     "name": "stdout",
     "output_type": "stream",
     "text": [
      "[[1.         0.         0.        ]\n",
      " [0.16666667 1.         0.        ]\n",
      " [0.33333333 0.3902439  1.        ]]\n"
     ]
    }
   ],
   "source": [
    "print(L)"
   ]
  },
  {
   "cell_type": "markdown",
   "id": "3565f65b-d402-4978-99aa-8c2822e79688",
   "metadata": {},
   "source": [
    "<b>Upper Triangular Matrix"
   ]
  },
  {
   "cell_type": "code",
   "execution_count": 11,
   "id": "96305cbe-334f-43d5-abf0-7f4105813666",
   "metadata": {},
   "outputs": [
    {
     "name": "stdout",
     "output_type": "stream",
     "text": [
      "[[6.         7.         8.        ]\n",
      " [0.         6.83333333 2.66666667]\n",
      " [0.         0.         2.29268293]]\n"
     ]
    }
   ],
   "source": [
    "print(U)"
   ]
  },
  {
   "cell_type": "markdown",
   "id": "7009f3cf-f12b-4e62-9ebb-873e7b62f96f",
   "metadata": {},
   "source": [
    "<b>Reconstruct A matrix"
   ]
  },
  {
   "cell_type": "code",
   "execution_count": 16,
   "id": "754ed160-45d7-4d2b-b67a-ef00cbb70c44",
   "metadata": {},
   "outputs": [],
   "source": [
    "res = L.dot(U)"
   ]
  },
  {
   "cell_type": "code",
   "execution_count": 17,
   "id": "38176dd9-2893-49c1-b90e-205dd1b06cca",
   "metadata": {},
   "outputs": [
    {
     "data": {
      "text/plain": [
       "array([[6., 7., 8.],\n",
       "       [1., 8., 4.],\n",
       "       [2., 5., 6.]])"
      ]
     },
     "execution_count": 17,
     "metadata": {},
     "output_type": "execute_result"
    }
   ],
   "source": [
    "res"
   ]
  },
  {
   "cell_type": "code",
   "execution_count": 18,
   "id": "e0bedc46-b4f2-4def-a952-0451207bc771",
   "metadata": {},
   "outputs": [],
   "source": [
    "res = P.dot(res)"
   ]
  },
  {
   "cell_type": "code",
   "execution_count": 19,
   "id": "c5f1c868-2069-471e-96e8-e37bed64eb8a",
   "metadata": {},
   "outputs": [
    {
     "data": {
      "text/plain": [
       "array([[2., 5., 6.],\n",
       "       [6., 7., 8.],\n",
       "       [1., 8., 4.]])"
      ]
     },
     "execution_count": 19,
     "metadata": {},
     "output_type": "execute_result"
    }
   ],
   "source": [
    "res"
   ]
  },
  {
   "cell_type": "code",
   "execution_count": 22,
   "id": "56b3dc16-a376-4e85-ae2e-02175ee596a4",
   "metadata": {},
   "outputs": [
    {
     "data": {
      "text/plain": [
       "array([[2., 5., 6.],\n",
       "       [6., 7., 8.],\n",
       "       [1., 8., 4.]])"
      ]
     },
     "execution_count": 22,
     "metadata": {},
     "output_type": "execute_result"
    }
   ],
   "source": [
    "res = P.dot(L.dot(U))\n",
    "res"
   ]
  },
  {
   "cell_type": "code",
   "execution_count": 23,
   "id": "f76d17aa-3e05-42ef-a667-dcbf9892b5bd",
   "metadata": {},
   "outputs": [
    {
     "data": {
      "text/plain": [
       "array([[2., 5., 6.],\n",
       "       [6., 7., 8.],\n",
       "       [1., 8., 4.]])"
      ]
     },
     "execution_count": 23,
     "metadata": {},
     "output_type": "execute_result"
    }
   ],
   "source": [
    "ans = P@L@U\n",
    "ans"
   ]
  }
 ],
 "metadata": {
  "kernelspec": {
   "display_name": "Python 3 (ipykernel)",
   "language": "python",
   "name": "python3"
  },
  "language_info": {
   "codemirror_mode": {
    "name": "ipython",
    "version": 3
   },
   "file_extension": ".py",
   "mimetype": "text/x-python",
   "name": "python",
   "nbconvert_exporter": "python",
   "pygments_lexer": "ipython3",
   "version": "3.12.2"
  }
 },
 "nbformat": 4,
 "nbformat_minor": 5
}
