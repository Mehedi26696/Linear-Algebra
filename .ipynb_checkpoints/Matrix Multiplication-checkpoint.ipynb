{
 "cells": [
  {
   "cell_type": "markdown",
   "id": "61182569-58dd-4b0e-b115-7103f8ddd1de",
   "metadata": {},
   "source": [
    "<center><h1 style=\"color:green\">Matrix Multiplication</center>"
   ]
  },
  {
   "cell_type": "markdown",
   "id": "c77acdff-9b5f-40a3-8433-bac0e4c6f997",
   "metadata": {},
   "source": [
    "### 1. **Basic Matrix Multiplication Concept**\n",
    "Matrix multiplication can be performed when the number of columns in the first matrix equals the number of rows in the second matrix. \n",
    "\n",
    "For two matrices $ A $ and $ B $, the product $ C = A \\times B $ is defined if $ A $ is of size $ m \\times n $ and $ B $ is of size $ n \\times p $, resulting in a matrix $ C $ of size $ m \\times p $.\n",
    "\n",
    "### 2. **Matrix Multiplication Process**\n",
    "Given two matrices $ A $ and $ B $, the element $ C_{ij} $ of the resulting matrix $ C $ is computed as:\n",
    "\n",
    "$$\n",
    "C_{ij} = \\sum_{k=1}^{n} A_{ik} \\times B_{kj}\n",
    "$$\n",
    "\n",
    "Where:\n",
    "- $ i $ is the row index of the resulting matrix.\n",
    "- $ j $ is the column index of the resulting matrix.\n",
    "- $ n $ is the number of columns in matrix $ A $, which equals the number of rows in matrix $ B $."
   ]
  },
  {
   "cell_type": "markdown",
   "id": "5ec7e336-2f37-4feb-80eb-9582ad5eceaa",
   "metadata": {},
   "source": [
    "<h3><b>3.Example of Matrix Multiplication</b></h3>\n",
    "\n",
    "<b>Let's take an example with matrices $ A $ and $ B $:<b>"
   ]
  },
  {
   "cell_type": "code",
   "execution_count": 1,
   "id": "feba0a8d-61dd-4283-971e-7194723e978e",
   "metadata": {},
   "outputs": [
    {
     "data": {
      "text/plain": [
       "array([[ 58,  64],\n",
       "       [139, 154]])"
      ]
     },
     "execution_count": 1,
     "metadata": {},
     "output_type": "execute_result"
    }
   ],
   "source": [
    "import numpy as np\n",
    "\n",
    "# Matrix A (2x3)\n",
    "A = np.array([[1, 2, 3],\n",
    "              [4, 5, 6]])\n",
    "\n",
    "# Matrix B (3x2)\n",
    "B = np.array([[7, 8],\n",
    "              [9, 10],\n",
    "              [11, 12]])\n",
    "\n",
    "# Perform matrix multiplication using np.dot\n",
    "C = np.dot(A, B)\n",
    "\n",
    "# Display the result\n",
    "C"
   ]
  },
  {
   "cell_type": "markdown",
   "id": "131656ed-ec8c-4175-b638-100245e91c8e",
   "metadata": {},
   "source": [
    "### 4. **Explanation of Matrix Dimensions**\n",
    "Matrix $ A $ is of size $ 2 \\times 3 $ (2 rows, 3 columns).  \n",
    "Matrix $ B $ is of size $ 3 \\times 2 $ (3 rows, 2 columns).  \n",
    "Since the number of columns in matrix $ A $ (which is 3) matches the number of rows in matrix $ B $ (which is 3), multiplication is valid, and the resulting matrix $ C $ will have dimensions $ 2 \\times 2 $ (2 rows, 2 columns).\n",
    "\n",
    "---\n",
    "\n",
    "### 5. **Result of Matrix Multiplication**\n",
    "The resulting matrix $ C $ after performing the multiplication is:\n",
    "\n",
    "$$\n",
    "C = \\begin{bmatrix} \n",
    "58 & 64 \\\\\n",
    "139 & 154\n",
    "\\end{bmatrix}\n",
    "$$\n",
    "\n",
    "---\n",
    "\n",
    "### 6. **Key Properties of Matrix Multiplication**\n",
    "\n",
    "Matrix multiplication has several important properties:\n",
    "\n",
    "- **Non-commutativity**: Matrix multiplication is **not commutative**, i.e., \n",
    "  $$\n",
    "  A \\times B \\neq B \\times A\n",
    "  $$\n",
    "\n",
    "- **Associativity**: Matrix multiplication is **associative**, i.e., \n",
    "  $$\n",
    "  A \\times (B \\times C) = (A \\times B) \\times C\n",
    "  $$\n",
    "\n",
    "- **Distributivity**: Matrix multiplication is **distributive** over matrix addition, i.e., \n",
    "  $$\n",
    "  A \\times (B + C) = A \\times B + A \\times C\n",
    "  $$\n",
    "\n",
    "- **Multiplicative Identity**: The identity matrix $ I $, when multiplied by any matrix $ A $, results in the matrix itself:\n",
    "  $$\n",
    "  A \\times I = I \\times A = A\n",
    "  $$\n",
    "\n",
    "- **Zero Matrix**: If a matrix is multiplied by the zero matrix, the result is always the zero matrix. For any matrix $ A $ and a zero matrix $ O $, \n",
    "  $$\n",
    "  A \\times O = O \\times A = O\n",
    "  $$\n",
    "\n",
    "- **Transposition Rule**: The transpose of a product of two matrices is the product of their transposes in reverse order:\n",
    "  $$\n",
    "  (A \\times B)^T = B^T \\times A^T\n",
    "  $$\n",
    "\n",
    "- **Scalar Multiplication**: When a matrix is multiplied by a scalar $ k $, each element of the matrix is multiplied by the scalar:\n",
    "  $$\n",
    "  k \\times A = \\begin{bmatrix} k \\times A_{11} & k \\times A_{12} & \\cdots \\\\ k \\times A_{21} & k \\times A_{22} & \\cdots \\end{bmatrix}\n",
    "  $$\n",
    "\n",
    "---"
   ]
  },
  {
   "cell_type": "markdown",
   "id": "83c8ee47-22b2-4494-a484-dfae06a3e612",
   "metadata": {},
   "source": [
    "### 7. **Invalid Matrix Multiplication Example**\n",
    "\n",
    "If the number of columns in the first matrix does not match the number of rows in the second matrix, multiplication is not possible. Let's see what happens if we try to multiply matrix $ A $ with matrix $ D $ (size $ 2 \\times 2 $):"
   ]
  },
  {
   "cell_type": "code",
   "execution_count": 2,
   "id": "466a78b1-7b71-4429-88d3-cce44296e524",
   "metadata": {},
   "outputs": [
    {
     "name": "stdout",
     "output_type": "stream",
     "text": [
      "Error: shapes (2,3) and (2,2) not aligned: 3 (dim 1) != 2 (dim 0)\n"
     ]
    }
   ],
   "source": [
    "# Matrix D (2x2)\n",
    "D = np.array([[1, 2],\n",
    "              [3, 4]])\n",
    "\n",
    "# Attempting to multiply A (2x3) with D (2x2) will raise an error\n",
    "try:\n",
    "    E = np.dot(A, D)\n",
    "except ValueError as e:\n",
    "    print(\"Error:\", e)"
   ]
  },
  {
   "cell_type": "code",
   "execution_count": 3,
   "id": "642f39ea-6bb0-4b29-b45b-226825091b70",
   "metadata": {},
   "outputs": [],
   "source": [
    "a = np.array([[1,2,3],\n",
    "              [4,5,6],\n",
    "              [7,8,9]])"
   ]
  },
  {
   "cell_type": "code",
   "execution_count": 4,
   "id": "b1ef1ec0-631e-4b58-8db0-85171ba69ce8",
   "metadata": {},
   "outputs": [],
   "source": [
    "b = np.array([[3,6,7],\n",
    "              [1,4,9],\n",
    "              [2,8,2]])"
   ]
  },
  {
   "cell_type": "code",
   "execution_count": 5,
   "id": "76bee753-050e-4a94-9d09-0f8a29467753",
   "metadata": {},
   "outputs": [
    {
     "name": "stdout",
     "output_type": "stream",
     "text": [
      "[[ 11  38  31]\n",
      " [ 29  92  85]\n",
      " [ 47 146 139]]\n"
     ]
    }
   ],
   "source": [
    "result = a.dot(b)\n",
    "print(result)"
   ]
  },
  {
   "cell_type": "code",
   "execution_count": 6,
   "id": "90f20c54-2ff8-4895-8575-f19f0f33757a",
   "metadata": {},
   "outputs": [],
   "source": [
    "from scipy.sparse import csr_matrix\n",
    "matrix1 = csr_matrix([[1, 2, 0], [3, 0, 4], [0, 0, 5]])\n",
    "matrix2 = csr_matrix([[2, 0, 1], [0, 3, 0], [4, 0, 1]])"
   ]
  },
  {
   "cell_type": "code",
   "execution_count": 7,
   "id": "e0685752-8b80-491f-84e0-ef07eaff9bdd",
   "metadata": {},
   "outputs": [
    {
     "name": "stdout",
     "output_type": "stream",
     "text": [
      "  (0, 1)\t6\n",
      "  (0, 2)\t1\n",
      "  (0, 0)\t2\n",
      "  (1, 2)\t7\n",
      "  (1, 0)\t22\n",
      "  (2, 2)\t5\n",
      "  (2, 0)\t20\n"
     ]
    }
   ],
   "source": [
    "result = matrix1.dot(matrix2)\n",
    "print(result)"
   ]
  },
  {
   "cell_type": "code",
   "execution_count": 8,
   "id": "41e2ff17-0797-4bb1-9fcc-15a2892cddd7",
   "metadata": {},
   "outputs": [
    {
     "name": "stdout",
     "output_type": "stream",
     "text": [
      "[[ 2  6  1]\n",
      " [22  0  7]\n",
      " [20  0  5]]\n"
     ]
    }
   ],
   "source": [
    "result_dense = result.toarray()\n",
    "print(result_dense)"
   ]
  },
  {
   "cell_type": "code",
   "execution_count": null,
   "id": "50c39c9b-a933-4406-b097-a2fdc59be000",
   "metadata": {},
   "outputs": [],
   "source": []
  }
 ],
 "metadata": {
  "kernelspec": {
   "display_name": "Python 3 (ipykernel)",
   "language": "python",
   "name": "python3"
  },
  "language_info": {
   "codemirror_mode": {
    "name": "ipython",
    "version": 3
   },
   "file_extension": ".py",
   "mimetype": "text/x-python",
   "name": "python",
   "nbconvert_exporter": "python",
   "pygments_lexer": "ipython3",
   "version": "3.12.2"
  }
 },
 "nbformat": 4,
 "nbformat_minor": 5
}
