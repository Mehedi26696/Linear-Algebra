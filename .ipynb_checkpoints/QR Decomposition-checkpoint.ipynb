{
 "cells": [
  {
   "cell_type": "markdown",
   "id": "b5db755a-1dc4-44f3-91ca-89494da7364e",
   "metadata": {},
   "source": [
    "<center><h1 style=\"color:green\">QR Decomposition</center>"
   ]
  },
  {
   "cell_type": "markdown",
   "id": "896e38ad-8e72-426f-af6a-f08c050f4847",
   "metadata": {},
   "source": [
    "## Definition:\n",
    "QR decomposition (or QR factorization) is a method of decomposing a matrix $ A $ into the product of two matrices:\n",
    "1. **$ Q $:** An orthogonal (or unitary) matrix, where $ Q^T Q = I $ (for real matrices) or $ Q^H Q = I $ (for complex matrices).\n",
    "2. **$ R $:** An upper triangular matrix.\n",
    "\n",
    "For a given matrix $ A $, the decomposition is:\n",
    "$$\n",
    "A = QR\n",
    "$$\n",
    "where:\n",
    "- $ Q $ has orthonormal columns,\n",
    "- $ R $ is upper triangular.\n",
    "\n",
    "---\n",
    "\n",
    "## Applications of QR Decomposition:\n",
    "1. **Solving Linear Systems ($ Ax = b $):**\n",
    "   - Decompose $ A $ into $ QR $.\n",
    "   - Solve $ Q^T b = c $ (since $ Q^T Q = I $) using matrix multiplication.\n",
    "   - Solve $ Rx = c $ using back substitution.\n",
    "\n",
    "2. **Least Squares Problems:**\n",
    "   - In solving overdetermined systems ($ m > n $), QR decomposition can help minimize the error:\n",
    "     $$\n",
    "     \\min_x \\|Ax - b\\|_2\n",
    "     $$\n",
    "   - Solve using $ R $ and $ Q $.\n",
    "\n",
    "3. **Eigenvalue Computation:**\n",
    "   - Iterative QR algorithms are used for finding eigenvalues and eigenvectors of matrices.\n",
    "\n",
    "---\n",
    "\n",
    "## Steps for QR Decomposition:\n",
    "1. **Using Gram-Schmidt Process**:\n",
    "   - Orthonormalize the columns of $ A $ to construct $ Q $.\n",
    "   - Calculate $ R = Q^T A $.\n",
    "\n",
    "2. **Householder Reflections or Givens Rotations**:\n",
    "   - Efficient methods for QR decomposition, especially for large matrices.\n",
    "\n",
    "---\n",
    "\n",
    "## Properties of QR Decomposition:\n",
    "- The columns of $ Q $ form an orthonormal basis for the column space of $ A $.\n",
    "- $ R $ is an upper triangular matrix.\n",
    "- Works for any $ m \\times n $ matrix $ A $ ($ m \\geq n $).\n",
    "\n",
    "---"
   ]
  },
  {
   "cell_type": "code",
   "execution_count": 1,
   "id": "04ed4ea3-0368-42f2-8c8a-fe9bd6a9161f",
   "metadata": {},
   "outputs": [],
   "source": [
    "import numpy as np\n",
    "from scipy.linalg import qr"
   ]
  },
  {
   "cell_type": "code",
   "execution_count": 2,
   "id": "347b694c-d2b5-414c-ac11-b4b585323def",
   "metadata": {},
   "outputs": [],
   "source": [
    "A = np.array([[2,5,6],\n",
    "            [6,7,8],\n",
    "            [1,8,4]])"
   ]
  },
  {
   "cell_type": "markdown",
   "id": "68470962-f0bf-42d5-bda9-27ae92e41f2f",
   "metadata": {},
   "source": [
    "<b>QR Decomposition"
   ]
  },
  {
   "cell_type": "code",
   "execution_count": 3,
   "id": "375acfef-2297-4ca2-a84f-118cb033d4e0",
   "metadata": {},
   "outputs": [],
   "source": [
    "Q,R = qr(A)"
   ]
  },
  {
   "cell_type": "markdown",
   "id": "2d34725b-3f3f-41ec-a7cb-af63a7c068b9",
   "metadata": {},
   "source": [
    "<b>Orthogonal Matrix"
   ]
  },
  {
   "cell_type": "code",
   "execution_count": 4,
   "id": "bbdef8db-349f-4e31-bad3-75914c1fe43a",
   "metadata": {},
   "outputs": [
    {
     "name": "stdout",
     "output_type": "stream",
     "text": [
      "[[-0.31234752  0.29262021 -0.90377676]\n",
      " [-0.93704257 -0.25130912  0.24247669]\n",
      " [-0.15617376  0.9226143   0.35269337]]\n"
     ]
    }
   ],
   "source": [
    "print(Q)"
   ]
  },
  {
   "cell_type": "markdown",
   "id": "de849d2e-a5b0-4985-a4cb-95fe63fcc89c",
   "metadata": {},
   "source": [
    "<b>Upper Triangular Matrix"
   ]
  },
  {
   "cell_type": "code",
   "execution_count": 5,
   "id": "bd4ff14f-54bc-40d2-9663-a24d4ad51eed",
   "metadata": {},
   "outputs": [
    {
     "name": "stdout",
     "output_type": "stream",
     "text": [
      "[[-6.40312424 -9.37042571 -9.99512076]\n",
      " [ 0.          7.08485158  3.43570548]\n",
      " [ 0.          0.         -2.07207356]]\n"
     ]
    }
   ],
   "source": [
    "print(R)"
   ]
  },
  {
   "cell_type": "markdown",
   "id": "a7c6362a-cfcc-461a-b7b8-7bbcb500639c",
   "metadata": {},
   "source": [
    "<b>Reconstruct A Matrix"
   ]
  },
  {
   "cell_type": "code",
   "execution_count": 6,
   "id": "d9403dfa-78b2-45b9-88e0-82331f14b65e",
   "metadata": {},
   "outputs": [
    {
     "data": {
      "text/plain": [
       "array([[2., 5., 6.],\n",
       "       [6., 7., 8.],\n",
       "       [1., 8., 4.]])"
      ]
     },
     "execution_count": 6,
     "metadata": {},
     "output_type": "execute_result"
    }
   ],
   "source": [
    "res = Q.dot(R)\n",
    "res"
   ]
  }
 ],
 "metadata": {
  "kernelspec": {
   "display_name": "Python 3 (ipykernel)",
   "language": "python",
   "name": "python3"
  },
  "language_info": {
   "codemirror_mode": {
    "name": "ipython",
    "version": 3
   },
   "file_extension": ".py",
   "mimetype": "text/x-python",
   "name": "python",
   "nbconvert_exporter": "python",
   "pygments_lexer": "ipython3",
   "version": "3.12.2"
  }
 },
 "nbformat": 4,
 "nbformat_minor": 5
}
