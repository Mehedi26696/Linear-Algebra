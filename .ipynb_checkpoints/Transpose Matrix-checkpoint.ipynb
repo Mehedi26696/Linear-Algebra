{
 "cells": [
  {
   "cell_type": "markdown",
   "id": "4d04259b-ae45-49f6-9b2e-c3be2610efc3",
   "metadata": {},
   "source": [
    "<center><h1 style=\"color:green\">Transpose</center>"
   ]
  },
  {
   "cell_type": "markdown",
   "id": "06ca54e7-b18a-42f1-b8de-27c92a575c14",
   "metadata": {},
   "source": [
    "## Definition\n",
    "The **transpose** of a matrix is obtained by flipping the matrix over its diagonal. This means that the row indices of the elements become the column indices, and the column indices become the row indices.\n",
    "\n",
    "If a matrix $ A $ is of order $ m \\times n $, then its transpose $ A^T $ (or $ A^\\top $) will be of order $ n \\times m $.\n",
    "\n",
    "### Mathematically:\n",
    "For a matrix $ A $ with elements $ a_{ij} $:\n",
    "\n",
    "$$\n",
    "A = \\begin{bmatrix}\n",
    "a_{11} & a_{12} & \\dots & a_{1n} \\\\\n",
    "a_{21} & a_{22} & \\dots & a_{2n} \\\\\n",
    "\\vdots & \\vdots & \\ddots & \\vdots \\\\\n",
    "a_{m1} & a_{m2} & \\dots & a_{mn}\n",
    "\\end{bmatrix}\n",
    "$$\n",
    "\n",
    "The transpose \\( A^T \\) is:\n",
    "\n",
    "$$\n",
    "A^T = \\begin{bmatrix}\n",
    "a_{11} & a_{21} & \\dots & a_{m1} \\\\\n",
    "a_{12} & a_{22} & \\dots & a_{m2} \\\\\n",
    "\\vdots & \\vdots & \\ddots & \\vdots \\\\\n",
    "a_{1n} & a_{2n} & \\dots & a_{mn}\n",
    "\\end{bmatrix}\n",
    "$$\n",
    "\n",
    "---\n",
    "\n",
    "## Properties of the Transpose\n",
    "\n",
    "1. **Double Transpose:** The transpose of the transpose of a matrix is the original matrix.\n",
    "\n",
    "$$\n",
    "(A^T)^T = A\n",
    "$$\n",
    "\n",
    "2. **Addition Property:** The transpose of the sum of two matrices is the sum of their transposes.\n",
    "\n",
    "$$\n",
    "(A + B)^T = A^T + B^T\n",
    "$$\n",
    "\n",
    "3. **Multiplication Property:** The transpose of the product of two matrices is the product of their transposes, in reverse order.\n",
    "\n",
    "$$\n",
    "(A \\cdot B)^T = B^T \\cdot A^T\n",
    "$$\n",
    "\n",
    "4. **Scalar Multiplication:** The transpose of a scalar multiplied by a matrix is the scalar multiplied by the transpose.\n",
    "\n",
    "$$\n",
    "(cA)^T = cA^T\n",
    "$$\n",
    "\n",
    "5. **Symmetric Matrix:** A matrix is symmetric if:\n",
    "\n",
    "$$\n",
    "A = A^T\n",
    "$$\n",
    "\n",
    "---\n",
    "\n",
    "## Example\n",
    "\n",
    "Let:\n",
    "\n",
    "$$\n",
    "A = \\begin{bmatrix}\n",
    "1 & 2 & 3 \\\\\n",
    "4 & 5 & 6\n",
    "\\end{bmatrix}\n",
    "$$\n",
    "\n",
    "The transpose of \\( A \\), denoted as \\( A^T \\), is:\n",
    "\n",
    "$$\n",
    "A^T = \\begin{bmatrix}\n",
    "1 & 4 \\\\\n",
    "2 & 5 \\\\\n",
    "3 & 6\n",
    "\\end{bmatrix}\n",
    "$$\n",
    "\n",
    "---"
   ]
  },
  {
   "cell_type": "code",
   "execution_count": 1,
   "id": "54fc31a9-8de8-4d3d-ac4d-7b497497b1a0",
   "metadata": {},
   "outputs": [],
   "source": [
    "import numpy as np"
   ]
  },
  {
   "cell_type": "code",
   "execution_count": 2,
   "id": "8dfbacce-4696-4ebc-9979-cf286de2f622",
   "metadata": {},
   "outputs": [],
   "source": [
    "np.set_printoptions(precision=1,suppress=True)"
   ]
  },
  {
   "cell_type": "code",
   "execution_count": 3,
   "id": "717b88e1-d025-4c27-a331-2f989d2bbcdf",
   "metadata": {},
   "outputs": [],
   "source": [
    "def create_a_square_invertible_array():\n",
    "    return np.array([[1,2,1],\n",
    "                      [3,8,1],\n",
    "                      [0,4,1]])"
   ]
  },
  {
   "cell_type": "code",
   "execution_count": 4,
   "id": "372efa74-5681-46dc-9282-dd56453418db",
   "metadata": {},
   "outputs": [],
   "source": [
    "def create_my_array():\n",
    "    return create_a_square_invertible_array()"
   ]
  },
  {
   "cell_type": "code",
   "execution_count": 5,
   "id": "4ce098b9-81f1-44fa-bcef-2d8adb511f46",
   "metadata": {},
   "outputs": [
    {
     "name": "stdout",
     "output_type": "stream",
     "text": [
      "[[1 2 1]\n",
      " [3 8 1]\n",
      " [0 4 1]]\n"
     ]
    }
   ],
   "source": [
    "A = create_my_array()\n",
    "print(A)"
   ]
  },
  {
   "cell_type": "markdown",
   "id": "bac97d9b-9635-4250-949a-0d67b2175a74",
   "metadata": {},
   "source": [
    "<b>Matrix Transpose for(1D Array)"
   ]
  },
  {
   "cell_type": "code",
   "execution_count": 6,
   "id": "e71e0b3b-1542-4bb5-bab4-b763142c9b22",
   "metadata": {},
   "outputs": [
    {
     "name": "stdout",
     "output_type": "stream",
     "text": [
      "[0 1 2]\n"
     ]
    }
   ],
   "source": [
    "A = np.arange(3)\n",
    "print(A)"
   ]
  },
  {
   "cell_type": "code",
   "execution_count": 7,
   "id": "0e1483f0-2041-4d54-85c9-be5c673b7b88",
   "metadata": {},
   "outputs": [
    {
     "name": "stdout",
     "output_type": "stream",
     "text": [
      "[0 1 2]\n"
     ]
    }
   ],
   "source": [
    "print(A.T)"
   ]
  },
  {
   "cell_type": "markdown",
   "id": "8dc60188-6b5d-48e2-b6e3-35a80d232449",
   "metadata": {},
   "source": [
    "<b>Matrix Transpose for(2D Array)"
   ]
  },
  {
   "cell_type": "code",
   "execution_count": 8,
   "id": "a12394b4-16b7-44bf-868b-6ce4bdcd921a",
   "metadata": {},
   "outputs": [
    {
     "name": "stdout",
     "output_type": "stream",
     "text": [
      "[[0 1 2]]\n"
     ]
    }
   ],
   "source": [
    "A = np.arange(3).reshape((1,3))\n",
    "print(A)"
   ]
  },
  {
   "cell_type": "code",
   "execution_count": 9,
   "id": "1e8c2320-36d8-432e-b6a1-bff5dcb5abf9",
   "metadata": {},
   "outputs": [
    {
     "name": "stdout",
     "output_type": "stream",
     "text": [
      "[[0]\n",
      " [1]\n",
      " [2]]\n"
     ]
    }
   ],
   "source": [
    "print(A.T)"
   ]
  },
  {
   "cell_type": "code",
   "execution_count": 10,
   "id": "5620d013-70a1-482f-9809-1f763b08cda8",
   "metadata": {},
   "outputs": [
    {
     "name": "stdout",
     "output_type": "stream",
     "text": [
      "[[1 2 3]\n",
      " [4 5 6]\n",
      " [7 8 9]]\n"
     ]
    }
   ],
   "source": [
    "A = np.arange(1,10).reshape((3,3))\n",
    "print(A)"
   ]
  },
  {
   "cell_type": "code",
   "execution_count": 11,
   "id": "69590821-0ec8-407d-a522-7add12bc0506",
   "metadata": {},
   "outputs": [
    {
     "name": "stdout",
     "output_type": "stream",
     "text": [
      "[[1 4 7]\n",
      " [2 5 8]\n",
      " [3 6 9]]\n"
     ]
    }
   ],
   "source": [
    "print(A.T)"
   ]
  },
  {
   "cell_type": "markdown",
   "id": "290a4ade-4046-4de2-8762-aeb3bc3d6d03",
   "metadata": {},
   "source": [
    "<b>Python Implementation"
   ]
  },
  {
   "cell_type": "code",
   "execution_count": 12,
   "id": "7addb9ec-fb31-4f52-923c-cd9c4957643a",
   "metadata": {},
   "outputs": [
    {
     "name": "stdout",
     "output_type": "stream",
     "text": [
      "Original Matrix:\n",
      "[1, 2, 3]\n",
      "[4, 5, 6]\n",
      "\n",
      "Transpose of the Matrix:\n",
      "[1, 4]\n",
      "[2, 5]\n",
      "[3, 6]\n"
     ]
    }
   ],
   "source": [
    "# Define a matrix\n",
    "A = [[1, 2, 3],\n",
    "     [4, 5, 6]]\n",
    "\n",
    "# Compute the transpose manually\n",
    "A_transpose = [[A[j][i] for j in range(len(A))] for i in range(len(A[0]))]\n",
    "\n",
    "print(\"Original Matrix:\")\n",
    "for row in A:\n",
    "    print(row)\n",
    "\n",
    "print(\"\\nTranspose of the Matrix:\")\n",
    "for row in A_transpose:\n",
    "    print(row)\n"
   ]
  }
 ],
 "metadata": {
  "kernelspec": {
   "display_name": "Python 3 (ipykernel)",
   "language": "python",
   "name": "python3"
  },
  "language_info": {
   "codemirror_mode": {
    "name": "ipython",
    "version": 3
   },
   "file_extension": ".py",
   "mimetype": "text/x-python",
   "name": "python",
   "nbconvert_exporter": "python",
   "pygments_lexer": "ipython3",
   "version": "3.12.2"
  }
 },
 "nbformat": 4,
 "nbformat_minor": 5
}
