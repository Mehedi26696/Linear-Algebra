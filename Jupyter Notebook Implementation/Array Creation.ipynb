{
 "cells": [
  {
   "cell_type": "markdown",
   "id": "499f1f5b-0767-4e2f-957f-b5f68a293514",
   "metadata": {},
   "source": [
    "<center><h1 style=\"color:green\">Array Creation</center>"
   ]
  },
  {
   "cell_type": "code",
   "execution_count": 5,
   "id": "925d64da-91eb-4b7c-8c61-84093a56cd44",
   "metadata": {},
   "outputs": [],
   "source": [
    "import numpy as np"
   ]
  },
  {
   "cell_type": "code",
   "execution_count": 6,
   "id": "0a63aa68-ca40-48eb-978b-eb99b8d86dfc",
   "metadata": {},
   "outputs": [],
   "source": [
    "np.set_printoptions(precision=1,suppress=True)"
   ]
  },
  {
   "cell_type": "code",
   "execution_count": 7,
   "id": "0aa5434d-acf1-456b-b1b0-20f9a7baca08",
   "metadata": {},
   "outputs": [],
   "source": [
    "def create_a_square_invertible_array():\n",
    "    return np.array([[1,2,1],\n",
    "                      [3,8,1],\n",
    "                      [0,4,1]])"
   ]
  },
  {
   "cell_type": "code",
   "execution_count": 8,
   "id": "bc7c9253-ec7a-4a9b-99bf-c351efd2fcf3",
   "metadata": {},
   "outputs": [],
   "source": [
    "def create_my_array():\n",
    "    return create_a_square_invertible_array()"
   ]
  },
  {
   "cell_type": "code",
   "execution_count": 9,
   "id": "7b1f2942-7248-4889-bf64-6c68e68f3d9f",
   "metadata": {},
   "outputs": [
    {
     "name": "stdout",
     "output_type": "stream",
     "text": [
      "[[1 2 1]\n",
      " [3 8 1]\n",
      " [0 4 1]]\n"
     ]
    }
   ],
   "source": [
    "A = create_my_array()\n",
    "print(A)"
   ]
  }
 ],
 "metadata": {
  "kernelspec": {
   "display_name": "Python 3 (ipykernel)",
   "language": "python",
   "name": "python3"
  },
  "language_info": {
   "codemirror_mode": {
    "name": "ipython",
    "version": 3
   },
   "file_extension": ".py",
   "mimetype": "text/x-python",
   "name": "python",
   "nbconvert_exporter": "python",
   "pygments_lexer": "ipython3",
   "version": "3.12.2"
  }
 },
 "nbformat": 4,
 "nbformat_minor": 5
}
