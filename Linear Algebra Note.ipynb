{
 "cells": [
  {
   "cell_type": "code",
   "execution_count": 1,
   "id": "e9ddaf93-f38d-41ee-911a-9c058f14bb3a",
   "metadata": {},
   "outputs": [],
   "source": [
    "import numpy as np,numpy.linalg as npLA"
   ]
  },
  {
   "cell_type": "code",
   "execution_count": 2,
   "id": "5c702c56-7154-4d6d-80f7-405c33e578f7",
   "metadata": {},
   "outputs": [],
   "source": [
    "from numpy.linalg import matrix_power"
   ]
  },
  {
   "cell_type": "code",
   "execution_count": 3,
   "id": "2dc21722-4767-4c94-89dc-4dd5b216dd99",
   "metadata": {},
   "outputs": [],
   "source": [
    "from numpy.testing import assert_allclose,assert_array_less, assert_"
   ]
  },
  {
   "cell_type": "code",
   "execution_count": 4,
   "id": "091b78cd-0286-4678-a671-efa9754b0d8d",
   "metadata": {},
   "outputs": [],
   "source": [
    "from scipy import linalg as LA"
   ]
  },
  {
   "cell_type": "code",
   "execution_count": 5,
   "id": "c9bb6465-041f-47e6-b9ab-0e9a0a6fa276",
   "metadata": {},
   "outputs": [],
   "source": [
    "from scipy.sparse import csr_matrix"
   ]
  },
  {
   "cell_type": "code",
   "execution_count": 6,
   "id": "5eebad31-86da-4b52-8d87-8e9b917afaf8",
   "metadata": {},
   "outputs": [],
   "source": [
    "from scipy.linalg import inv,det,expm"
   ]
  },
  {
   "cell_type": "code",
   "execution_count": 7,
   "id": "d4a511a8-e0fb-41c9-9e50-aa674e8debe9",
   "metadata": {},
   "outputs": [],
   "source": [
    "import matplotlib.pyplot as plt"
   ]
  },
  {
   "cell_type": "code",
   "execution_count": 8,
   "id": "47f2bdae-3ac1-4fdd-a28a-ae5bf5ace942",
   "metadata": {},
   "outputs": [],
   "source": [
    "np.set_printoptions(precision=1,suppress=True)"
   ]
  },
  {
   "cell_type": "markdown",
   "id": "499f1f5b-0767-4e2f-957f-b5f68a293514",
   "metadata": {},
   "source": [
    "# Create Array"
   ]
  },
  {
   "cell_type": "code",
   "execution_count": 9,
   "id": "0aa5434d-acf1-456b-b1b0-20f9a7baca08",
   "metadata": {},
   "outputs": [],
   "source": [
    "def create_a_square_invertible_array():\n",
    "    return np.array([[1,2,1],\n",
    "                      [3,8,1],\n",
    "                      [0,4,1]])"
   ]
  },
  {
   "cell_type": "code",
   "execution_count": 10,
   "id": "bc7c9253-ec7a-4a9b-99bf-c351efd2fcf3",
   "metadata": {},
   "outputs": [],
   "source": [
    "def create_my_array():\n",
    "    return create_a_square_invertible_array()"
   ]
  },
  {
   "cell_type": "code",
   "execution_count": 11,
   "id": "7b1f2942-7248-4889-bf64-6c68e68f3d9f",
   "metadata": {},
   "outputs": [
    {
     "name": "stdout",
     "output_type": "stream",
     "text": [
      "[[1 2 1]\n",
      " [3 8 1]\n",
      " [0 4 1]]\n"
     ]
    }
   ],
   "source": [
    "A = create_my_array()\n",
    "print(A)"
   ]
  },
  {
   "cell_type": "markdown",
   "id": "cf2b562f-e2c3-44fe-9fb8-c76ead3dc344",
   "metadata": {},
   "source": [
    "# Basic Oprations"
   ]
  },
  {
   "cell_type": "markdown",
   "id": "0cefe25b-99b5-4536-b84a-bbf69112481b",
   "metadata": {},
   "source": [
    "## Transpose"
   ]
  },
  {
   "cell_type": "markdown",
   "id": "cddae0c6-28a5-4c04-96c6-121aa93bd941",
   "metadata": {},
   "source": [
    "## Matrix(1D array)"
   ]
  },
  {
   "cell_type": "code",
   "execution_count": 12,
   "id": "b25d1175-550d-43f8-b326-9fd0e22c0991",
   "metadata": {},
   "outputs": [
    {
     "name": "stdout",
     "output_type": "stream",
     "text": [
      "[0 1 2]\n"
     ]
    }
   ],
   "source": [
    "A = np.arange(3)\n",
    "print(A)"
   ]
  },
  {
   "cell_type": "code",
   "execution_count": 13,
   "id": "d1a5fdca-a73b-4416-8bd5-dd01f1090daa",
   "metadata": {},
   "outputs": [
    {
     "name": "stdout",
     "output_type": "stream",
     "text": [
      "[0 1 2]\n"
     ]
    }
   ],
   "source": [
    "print(A.T)"
   ]
  },
  {
   "cell_type": "markdown",
   "id": "73069c50-1f70-4607-88fc-06b56f9045ac",
   "metadata": {},
   "source": [
    "## Matrix(2D array)"
   ]
  },
  {
   "cell_type": "code",
   "execution_count": 14,
   "id": "ca95fd67-1d4f-43d2-990e-c289e9c67025",
   "metadata": {},
   "outputs": [
    {
     "name": "stdout",
     "output_type": "stream",
     "text": [
      "[[0 1 2]]\n"
     ]
    }
   ],
   "source": [
    "A = np.arange(3).reshape((1,3))\n",
    "print(A)"
   ]
  },
  {
   "cell_type": "code",
   "execution_count": 15,
   "id": "0cda4486-cf9b-416b-baa2-570dbc0e436e",
   "metadata": {},
   "outputs": [
    {
     "name": "stdout",
     "output_type": "stream",
     "text": [
      "[[0]\n",
      " [1]\n",
      " [2]]\n"
     ]
    }
   ],
   "source": [
    "print(A.T)"
   ]
  },
  {
   "cell_type": "code",
   "execution_count": 16,
   "id": "fcd7a4c3-e3c5-4b6b-b871-6971b6426515",
   "metadata": {},
   "outputs": [
    {
     "name": "stdout",
     "output_type": "stream",
     "text": [
      "[[1 2]\n",
      " [3 4]]\n"
     ]
    }
   ],
   "source": [
    "A = np.arange(1,5).reshape((2,2))\n",
    "print(A)"
   ]
  },
  {
   "cell_type": "code",
   "execution_count": 17,
   "id": "c7065ad8-e54f-4e8a-9067-576c4820fa09",
   "metadata": {},
   "outputs": [
    {
     "name": "stdout",
     "output_type": "stream",
     "text": [
      "[[1 3]\n",
      " [2 4]]\n"
     ]
    }
   ],
   "source": [
    "print(A.T)"
   ]
  },
  {
   "cell_type": "markdown",
   "id": "5ca18f74-7289-472d-9be6-b0a1b19dc980",
   "metadata": {},
   "source": [
    "# Inverse"
   ]
  },
  {
   "cell_type": "code",
   "execution_count": 18,
   "id": "3a152897-abea-4500-9a48-235c332d63c0",
   "metadata": {},
   "outputs": [
    {
     "name": "stdout",
     "output_type": "stream",
     "text": [
      "[[-0.2  0.4]\n",
      " [ 0.6 -0.2]]\n"
     ]
    }
   ],
   "source": [
    "A = np.array([[1,2],\n",
    "              [3,1]])\n",
    "Ai = LA.inv(A)\n",
    "print(Ai)"
   ]
  },
  {
   "cell_type": "code",
   "execution_count": 19,
   "id": "d0f8746a-fad8-4581-8379-1c915ceab642",
   "metadata": {},
   "outputs": [
    {
     "name": "stdout",
     "output_type": "stream",
     "text": [
      "[[ 0.4  0.2 -0.6]\n",
      " [-0.3  0.1  0.2]\n",
      " [ 1.2 -0.4  0.2]]\n"
     ]
    }
   ],
   "source": [
    "A = create_my_array()\n",
    "Ai = LA.inv(A)\n",
    "print(Ai)"
   ]
  },
  {
   "cell_type": "markdown",
   "id": "1b98ce57-aff1-4435-aa6d-e60e6d8dd30a",
   "metadata": {},
   "source": [
    "## Multiplication"
   ]
  },
  {
   "cell_type": "code",
   "execution_count": 20,
   "id": "ecf4dc76-20c0-49ae-ad68-4cb471e1f428",
   "metadata": {},
   "outputs": [],
   "source": [
    "a = np.array([[1,2,3],\n",
    "              [4,5,6],\n",
    "              [7,8,9]])"
   ]
  },
  {
   "cell_type": "code",
   "execution_count": 21,
   "id": "6f4948fc-dbe0-47a9-8efa-0ac3a7256341",
   "metadata": {},
   "outputs": [],
   "source": [
    "b = np.array([[3,6,7],\n",
    "              [1,4,9],\n",
    "              [2,8,2]])"
   ]
  },
  {
   "cell_type": "code",
   "execution_count": 22,
   "id": "cba88a70-1996-4fb0-bb0a-4c42031a443d",
   "metadata": {},
   "outputs": [
    {
     "name": "stdout",
     "output_type": "stream",
     "text": [
      "[[ 11  38  31]\n",
      " [ 29  92  85]\n",
      " [ 47 146 139]]\n"
     ]
    }
   ],
   "source": [
    "result = a.dot(b)\n",
    "print(result)"
   ]
  },
  {
   "cell_type": "code",
   "execution_count": 23,
   "id": "018f710f-cd4b-41dd-8d8e-e775187b9d4b",
   "metadata": {},
   "outputs": [],
   "source": [
    "matrix1 = csr_matrix([[1, 2, 0], [3, 0, 4], [0, 0, 5]])\n",
    "matrix2 = csr_matrix([[2, 0, 1], [0, 3, 0], [4, 0, 1]])"
   ]
  },
  {
   "cell_type": "code",
   "execution_count": 24,
   "id": "514092d8-901a-4c94-a769-b4ea1a0cfc1c",
   "metadata": {},
   "outputs": [
    {
     "name": "stdout",
     "output_type": "stream",
     "text": [
      "  (0, 1)\t6\n",
      "  (0, 2)\t1\n",
      "  (0, 0)\t2\n",
      "  (1, 2)\t7\n",
      "  (1, 0)\t22\n",
      "  (2, 2)\t5\n",
      "  (2, 0)\t20\n"
     ]
    }
   ],
   "source": [
    "result = matrix1.dot(matrix2)\n",
    "print(result)"
   ]
  },
  {
   "cell_type": "code",
   "execution_count": 25,
   "id": "a094fc99-68f8-48bc-89db-d44b548ea0b6",
   "metadata": {},
   "outputs": [],
   "source": [
    "result_dense = result.toarray()"
   ]
  },
  {
   "cell_type": "code",
   "execution_count": 26,
   "id": "17c11ec5-d90b-433a-9d0e-97a34fa6f1bd",
   "metadata": {},
   "outputs": [
    {
     "name": "stdout",
     "output_type": "stream",
     "text": [
      "[[ 2  6  1]\n",
      " [22  0  7]\n",
      " [20  0  5]]\n"
     ]
    }
   ],
   "source": [
    "print(result_dense)"
   ]
  },
  {
   "cell_type": "code",
   "execution_count": null,
   "id": "4065645d-413f-4962-b27a-e86055b4081a",
   "metadata": {},
   "outputs": [],
   "source": []
  }
 ],
 "metadata": {
  "kernelspec": {
   "display_name": "Python 3 (ipykernel)",
   "language": "python",
   "name": "python3"
  },
  "language_info": {
   "codemirror_mode": {
    "name": "ipython",
    "version": 3
   },
   "file_extension": ".py",
   "mimetype": "text/x-python",
   "name": "python",
   "nbconvert_exporter": "python",
   "pygments_lexer": "ipython3",
   "version": "3.12.2"
  }
 },
 "nbformat": 4,
 "nbformat_minor": 5
}
